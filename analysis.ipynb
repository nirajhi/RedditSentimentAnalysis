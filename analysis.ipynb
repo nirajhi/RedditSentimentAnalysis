{
 "cells": [
  {
   "cell_type": "code",
   "execution_count": 1,
   "metadata": {},
   "outputs": [],
   "source": [
    "import pandas as pd"
   ]
  },
  {
   "cell_type": "code",
   "execution_count": 2,
   "metadata": {},
   "outputs": [],
   "source": [
    "nasdaq_data = pd.read_csv('data/nasdaqlisted.txt', sep=\"|\")\n",
    "other_data = pd.read_csv('data/otherlisted.txt', sep=\"|\")\n",
    "\n",
    "combined_data = pd.concat([nasdaq_data, other_data]).drop_duplicates(keep=False)\n",
    "\n",
    "# combined_data.shape"
   ]
  },
  {
   "cell_type": "code",
   "execution_count": 8,
   "metadata": {},
   "outputs": [],
   "source": [
    "eft_data = combined_data[combined_data['ETF'] == 'Y']\n",
    "stock_data = combined_data[combined_data['ETF'] == 'N']\n",
    "# stock_data\n",
    "# stock_data = combined_data - eft_data\n",
    "# stock_data.head(5)"
   ]
  },
  {
   "cell_type": "code",
   "execution_count": null,
   "metadata": {},
   "outputs": [],
   "source": []
  }
 ],
 "metadata": {
  "interpreter": {
   "hash": "4a7906cbe8a7b522d3d62e16fb8b6b31f6415a8ba79277c8e00e3e9d72e7cacb"
  },
  "kernelspec": {
   "display_name": "Python 3.9.7 64-bit ('reddit': pyenv)",
   "name": "python3"
  },
  "language_info": {
   "codemirror_mode": {
    "name": "ipython",
    "version": 3
   },
   "file_extension": ".py",
   "mimetype": "text/x-python",
   "name": "python",
   "nbconvert_exporter": "python",
   "pygments_lexer": "ipython3",
   "version": "3.9.6"
  },
  "orig_nbformat": 4
 },
 "nbformat": 4,
 "nbformat_minor": 2
}
